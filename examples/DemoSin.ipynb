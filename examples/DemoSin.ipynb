{
 "cells": [
  {
   "cell_type": "code",
   "execution_count": 1,
   "id": "7b9b1d66",
   "metadata": {},
   "outputs": [
    {
     "name": "stderr",
     "output_type": "stream",
     "text": [
      "INFO:sc3.synth.server:setting global variable 's' to 'localhost'\n"
     ]
    }
   ],
   "source": [
    "import time\n",
    "from sc3dynlib import Dynlib, build_snippet\n",
    "from sc3.all import *"
   ]
  },
  {
   "cell_type": "code",
   "execution_count": 2,
   "id": "f8c6ab64",
   "metadata": {},
   "outputs": [
    {
     "name": "stderr",
     "output_type": "stream",
     "text": [
      "INFO:sc3.synth.server:booting server 'localhost' on address 127.0.0.1:57110\n",
      "INFO:SERVER.stdout:Faust: supercollider.cpp: sc_api_version = 3\n",
      "INFO:SERVER.stdout:Faust: FaustJPverbRaw numControls=11\n",
      "INFO:SERVER.stdout:Found 305 LADSPA plugins\n",
      "INFO:SERVER.stdout:Faust: supercollider.cpp: sc_api_version = 3\n",
      "INFO:SERVER.stdout:Faust: FaustGreyholeRaw numControls=7\n",
      "INFO:SERVER.stdout:JackDriver: client name is 'SuperCollider'\n",
      "INFO:SERVER.stdout:SC_AudioDriver: sample rate = 48000.000000, driver's block size = 1024\n",
      "INFO:SERVER.stdout:JackDriver: connected  system:capture_1 to SuperCollider:in_1\n",
      "INFO:SERVER.stdout:JackDriver: connected  system:capture_2 to SuperCollider:in_2\n",
      "INFO:SERVER.stdout:JackDriver: connected  SuperCollider:out_1 to system:playback_1\n",
      "INFO:SERVER.stdout:JackDriver: connected  SuperCollider:out_2 to system:playback_2\n",
      "INFO:SERVER.stdout:SuperCollider 3 server ready.\n",
      "INFO:SERVER.stdout:JackDriver: max output latency 42.7 ms\n",
      "INFO:sc3.synth._serverstatus:'localhost': requested registration id\n",
      "INFO:sc3.synth._serverstatus:'localhost': setting client_id to 0\n"
     ]
    }
   ],
   "source": [
    "s.boot()\n",
    "time.sleep(8)\n",
    "play()"
   ]
  },
  {
   "cell_type": "code",
   "execution_count": 3,
   "id": "ca6c9187",
   "metadata": {},
   "outputs": [],
   "source": [
    "cpp = \"\"\"\n",
    "#include <math.h>\n",
    "#include <iostream>\n",
    "#define PI 3.141592653589793238462\n",
    "\n",
    "#define N_STATE 1\n",
    "#define N_INPUTS 0\n",
    "#define N_OUTPUTS 2\n",
    "#define N_PARAMETERS 1\n",
    "\n",
    "#define BLOCKWISE 1\n",
    "\n",
    "extern \"C\"\n",
    "{\n",
    "    double ph=0;\n",
    "\n",
    "    void settings(int x[])\n",
    "    {\n",
    "        x[0] = N_STATE;\n",
    "        x[1] = N_OUTPUTS;\n",
    "        x[2] = N_INPUTS;\n",
    "        x[3] = N_PARAMETERS;\n",
    "        x[4] = BLOCKWISE;\n",
    "    }\n",
    "\n",
    "    void setup(double dt, int N)\n",
    "    {\n",
    "        std::cout << \"DemoSin setup\\\\n\" << std::endl;\n",
    "        ph = 0;\n",
    "    }\n",
    "\n",
    "    void process_blockwise(double **state_in, double **state_out, double **in, double **out, double *param, double dt, int N)\n",
    "    {\n",
    "        float f = param[0];        \n",
    "        float dph = 2*PI*f*dt;\n",
    "        for (int i = 0; i < N; i++)\n",
    "        {\n",
    "            ph += dph;\n",
    "            out[0][i] = sin(ph);\n",
    "            out[1][i] = sin(ph);\n",
    "        } \n",
    "    }\n",
    "}\n",
    "\"\"\""
   ]
  },
  {
   "cell_type": "code",
   "execution_count": 4,
   "id": "a0a4603a",
   "metadata": {},
   "outputs": [
    {
     "name": "stdout",
     "output_type": "stream",
     "text": [
      "0\n",
      "DemoSin.cpp  DemoSin.ipynb  DemoSin.o  DemoSin.py  libDemoSin.so\n"
     ]
    }
   ],
   "source": [
    "!rm libDemoSin.so\n",
    "build_snippet('DemoSin', cpp)\n",
    "!ls"
   ]
  },
  {
   "cell_type": "code",
   "execution_count": 5,
   "id": "506857f6",
   "metadata": {},
   "outputs": [
    {
     "name": "stdout",
     "output_type": "stream",
     "text": [
      "[7, 68, 101, 109, 111, 83, 105, 110, OutputProxy.new('control', Control.kr([1.0, 200]), 1)]\n"
     ]
    }
   ],
   "source": [
    "@synthdef\n",
    "def demoSin(amp=1.0, freq=200):\n",
    "    gen = Dynlib.ar('DemoSin',freq)*amp\n",
    "    Out(0, gen)\n",
    "time.sleep(0.5)"
   ]
  },
  {
   "cell_type": "code",
   "execution_count": 6,
   "id": "94d0f4d1",
   "metadata": {},
   "outputs": [
    {
     "name": "stderr",
     "output_type": "stream",
     "text": [
      "INFO:SERVER.stdout:Dynlib v0.2\n",
      "INFO:SERVER.stdout:Plugin name: DemoSin\n",
      "INFO:SERVER.stdout:Lib name: ./libDemoSin.so\n",
      "INFO:SERVER.stdout:DemoSin: DLOPEN: ok\n",
      "INFO:SERVER.stdout:DemoSin: N_STATE=1\t N_OUTPUTS=2\t N_INPUTS=0\t N_PARAMETERS=1\t BLOCKWISE=1\n",
      "INFO:SERVER.stdout:RTALLOCS\n",
      "INFO:SERVER.stdout:DemoSin: PARAMS 220\n",
      "INFO:SERVER.stdout:DemoSin: OUT 0\n",
      "INFO:SERVER.stdout:DemoSin: OUT 0\n",
      "INFO:SERVER.stdout:SETUP\n",
      "INFO:SERVER.stdout:DemoSin setup\n",
      "INFO:SERVER.stdout:\n",
      "INFO:SERVER.stdout:CALL\n"
     ]
    }
   ],
   "source": [
    "o = demoSin(amp=1, freq=220)\n",
    "time.sleep(3)"
   ]
  },
  {
   "cell_type": "code",
   "execution_count": 7,
   "id": "fcb5f167",
   "metadata": {},
   "outputs": [],
   "source": [
    "o.set('amp',0.5)\n",
    "o.set('freq',300)"
   ]
  },
  {
   "cell_type": "code",
   "execution_count": 8,
   "id": "7bdd7ee4",
   "metadata": {},
   "outputs": [
    {
     "name": "stderr",
     "output_type": "stream",
     "text": [
      "INFO:SERVER.stdout:DemoSin: All FreeDemoSin: ClosedDynlib v0.2\n",
      "INFO:SERVER.stdout:Plugin name: DemoSin\n",
      "INFO:SERVER.stdout:Lib name: ./libDemoSin.so\n",
      "INFO:SERVER.stdout:DemoSin: DLOPEN: ok\n",
      "INFO:SERVER.stdout:DemoSin: N_STATE=1\t N_OUTPUTS=2\t N_INPUTS=0\t N_PARAMETERS=1\t BLOCKWISE=1\n",
      "INFO:SERVER.stdout:RTALLOCS\n",
      "INFO:SERVER.stdout:DemoSin: PARAMS 220\n",
      "INFO:SERVER.stdout:DemoSin: OUT 0\n",
      "INFO:SERVER.stdout:DemoSin: OUT 0\n",
      "INFO:SERVER.stdout:SETUP\n",
      "INFO:SERVER.stdout:DemoSin setup\n",
      "INFO:SERVER.stdout:\n",
      "INFO:SERVER.stdout:CALL\n"
     ]
    }
   ],
   "source": [
    "o.free()"
   ]
  },
  {
   "cell_type": "code",
   "execution_count": 10,
   "id": "bc1ea3f3",
   "metadata": {},
   "outputs": [],
   "source": [
    "# CmdPeriod.run()"
   ]
  }
 ],
 "metadata": {
  "@webio": {
   "lastCommId": null,
   "lastKernelId": null
  },
  "kernelspec": {
   "display_name": "Python 3.9.7 ('base')",
   "language": "python",
   "name": "python3"
  },
  "language_info": {
   "codemirror_mode": {
    "name": "ipython",
    "version": 3
   },
   "file_extension": ".py",
   "mimetype": "text/x-python",
   "name": "python",
   "nbconvert_exporter": "python",
   "pygments_lexer": "ipython3",
   "version": "3.8.5"
  },
  "vscode": {
   "interpreter": {
    "hash": "6650177e5eb7cf28d7a0fd6949b927d1cbdfe7d66736e6f29f1575f33e394bd7"
   }
  }
 },
 "nbformat": 4,
 "nbformat_minor": 5
}
